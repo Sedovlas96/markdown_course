{
 "cells": [
  {
   "cell_type": "markdown",
   "metadata": {},
   "source": [
    "## Оглавления\n",
    "---"
   ]
  },
  {
   "cell_type": "markdown",
   "metadata": {},
   "source": [
    "# Оглавление1"
   ]
  },
  {
   "cell_type": "markdown",
   "metadata": {},
   "source": [
    "Альтернативное Оглавление1 с 2-мя равно\n",
    "=="
   ]
  },
  {
   "cell_type": "markdown",
   "metadata": {},
   "source": [
    "## Оглавление 2"
   ]
  },
  {
   "cell_type": "markdown",
   "metadata": {},
   "source": [
    "Альтернативное Оглавление2 с 2-мя прочерками\n",
    "--"
   ]
  },
  {
   "cell_type": "markdown",
   "metadata": {},
   "source": [
    "### Оглавление 3"
   ]
  },
  {
   "cell_type": "markdown",
   "metadata": {},
   "source": [
    "#### Оглавление 4"
   ]
  },
  {
   "cell_type": "markdown",
   "metadata": {},
   "source": [
    "##### Оглавление 5"
   ]
  },
  {
   "cell_type": "markdown",
   "metadata": {},
   "source": [
    "###### Оглавление 6"
   ]
  },
  {
   "cell_type": "markdown",
   "metadata": {},
   "source": [
    "### Поставьте `---` (3 тире) под текстом оглавления в той же ячейке и получите подчёркнутую строку\n",
    "---"
   ]
  },
  {
   "cell_type": "markdown",
   "metadata": {},
   "source": [
    "### Так же, можно поставить `___` (3 нижних подчёркивания) и получить тоже самое :)\n",
    "___"
   ]
  },
  {
   "cell_type": "markdown",
   "metadata": {},
   "source": [
    "## Параграфы\n",
    "---"
   ]
  },
  {
   "cell_type": "markdown",
   "metadata": {},
   "source": [
    "#### Простой текст"
   ]
  },
  {
   "cell_type": "markdown",
   "metadata": {},
   "source": [
    "1. Если писать просто текст, то его можно писать вот так: текст, какой-то текст\n",
    "2. Ставьте 2 пробела в конце строки.  \n",
    "Так вы сможете переносить текст на другие строки.  \n",
    "Круто, правда?\n",
    "3. Чтобы сделать абзац в тексте,\n",
    "\n",
    "нужно всего-навсего вставить пустую строку между абзацами"
   ]
  },
  {
   "cell_type": "markdown",
   "metadata": {},
   "source": [
    "#### Что-то выделить в тексте"
   ]
  },
  {
   "cell_type": "markdown",
   "metadata": {},
   "source": [
    "1. Чтобы выделить текст `в таком виде (как код)`, выделите его с обеих сторон таким значком ``` (тильда)``\n",
    "2. Если у вас ``в таком тексте есть значок ` `` , то текст выделите текст \\`\\` (двумя тильдами)\n",
    "3. Если хотите написать горизонтальную черту, то в пустой строке поставьте `***` или `---`\n",
    "***\n",
    "4. а между линиями можно написать текст\n",
    "---\n",
    "5. балдёёёёж :)\n",
    "___"
   ]
  },
  {
   "cell_type": "markdown",
   "metadata": {},
   "source": [
    "#### Жирный текст"
   ]
  },
  {
   "cell_type": "markdown",
   "metadata": {},
   "source": [
    "Оберните текст 2-мя звёздочками `(**текст**)`, чтобы сделать его **жирным**  \n",
    "либо оборачивать можно __2-мя нижними подчёркиваниями__ `(__текст__)`"
   ]
  },
  {
   "cell_type": "markdown",
   "metadata": {},
   "source": [
    "#### Курсивный текст"
   ]
  },
  {
   "cell_type": "markdown",
   "metadata": {},
   "source": [
    "Оберните текст одной звёздочкой `(*текст*)`, чтобы сделать его *курсивом*  \n",
    "либо оборачивать можно _одним нижним подчёркиванием_ `(_текст_)`"
   ]
  },
  {
   "cell_type": "markdown",
   "metadata": {},
   "source": [
    "#### Жирный курсив"
   ]
  },
  {
   "cell_type": "markdown",
   "metadata": {},
   "source": [
    "А дальше будет ***жирный курсив***. Делается при помощи 3-х звёздочек. `(***текст***)`  \n",
    "Альтернативы:  \n",
    "___3 нижних подчёркивания___ `(___текст___)`  \n",
    "__*2 подчёркивания и звёздочка*__ `(__*текст*__)`  \n",
    "**_2 звёздочки и подчёркивание_** `(**_текст_**)`"
   ]
  },
  {
   "cell_type": "markdown",
   "metadata": {},
   "source": [
    "#### Зачёркнутый текст"
   ]
  },
  {
   "cell_type": "markdown",
   "metadata": {},
   "source": [
    "~~Зачёркнутый~~ текст можно писать, обернув его в такой два знака `~~`"
   ]
  },
  {
   "cell_type": "markdown",
   "metadata": {},
   "source": [
    "## Цитаты\n",
    "---"
   ]
  },
  {
   "cell_type": "markdown",
   "metadata": {},
   "source": [
    "#### Простые цитаты"
   ]
  },
  {
   "cell_type": "markdown",
   "metadata": {},
   "source": [
    "> Поставьте `>` впереди строки, чтобы написать какую-то цитату"
   ]
  },
  {
   "cell_type": "markdown",
   "metadata": {},
   "source": [
    "#### Как делить цитаты на строки"
   ]
  },
  {
   "cell_type": "markdown",
   "metadata": {},
   "source": [
    "> Поставьте `>` на пустую строку,\n",
    ">\n",
    "> чтобы разделить цитату на строки  \n",
    ">либо `2 пробела` в конце строки"
   ]
  },
  {
   "cell_type": "markdown",
   "metadata": {},
   "source": [
    "#### Вложенные цитаты"
   ]
  },
  {
   "cell_type": "markdown",
   "metadata": {},
   "source": [
    ">Цитаты можно вкладывать,  \n",
    ">> Нужно только поставить `>>` вначале строки\n",
    ">>> думаю, алгоритм вложенности понятен"
   ]
  },
  {
   "cell_type": "markdown",
   "metadata": {},
   "source": [
    "#### Другие элементы в цитатах"
   ]
  },
  {
   "cell_type": "markdown",
   "metadata": {},
   "source": [
    ">### В цитате можно написать оглавление  \n",
    "> - списки тоже можно писать в цитатах\n",
    "> - 2-ая строка списка\n",
    ">\n",
    "> **Жирный**, *Курсивный* и ***Жирный курсив*** тоже можно писать в цитатах"
   ]
  },
  {
   "cell_type": "markdown",
   "metadata": {},
   "source": [
    "## Списки\n",
    "---"
   ]
  },
  {
   "cell_type": "markdown",
   "metadata": {},
   "source": [
    "#### Нумерованый список"
   ]
  },
  {
   "cell_type": "markdown",
   "metadata": {},
   "source": [
    "1. Ставьте `1. (один, точка, пробел)` вначале строки\n",
    "2. для 2-ой строки поставьте `2.`\n",
    "3. для 3-ей строки – `3.`\n",
    "4. и т.д."
   ]
  },
  {
   "cell_type": "markdown",
   "metadata": {},
   "source": [
    "1. но если вы каждую стркоу начнёте с `1.`\n",
    "1. то всё равно список будет пронумерованный\n",
    "1. вот такая вот прелесть"
   ]
  },
  {
   "cell_type": "markdown",
   "metadata": {},
   "source": [
    "3. если вы хотите начать нумерацию\n",
    "1. с некого числа `n`\n",
    "1. просто укажите его 1ым\n",
    "2. а дальше нумеруйте как вам вздумается"
   ]
  },
  {
   "cell_type": "markdown",
   "metadata": {},
   "source": [
    "1. если вы хотите \n",
    "2. нумеровать подсписки, то\n",
    "    1. вначале строки \n",
    "    2. нажмите `Tab`\n",
    "        1. и нумероваться будут\n",
    "        2. уже подсписки"
   ]
  },
  {
   "cell_type": "markdown",
   "metadata": {},
   "source": [
    "#### Маркерованый список"
   ]
  },
  {
   "cell_type": "markdown",
   "metadata": {},
   "source": [
    "+ чтобы сделать список маркированным\n",
    "+ нужно всего-то каждую строку \n",
    "- начинать с `+` или `\\*`, или `-`"
   ]
  },
  {
   "cell_type": "markdown",
   "metadata": {},
   "source": [
    "* если вы каким-то образом\n",
    "- каждую строку будете начинать\n",
    "+ с разных символов,\n",
    "- ничего страшного не произойдёт\n",
    "* список умный, построится сам"
   ]
  },
  {
   "cell_type": "markdown",
   "metadata": {},
   "source": [
    "- подсписки в маркерованном списке\n",
    "- делаются по такому же алгоритму,\n",
    "    - как и в нумерованном списке\n",
    "    - ***Tab*** от начала\n",
    "        - и дело в шляпе\n",
    "        - неплохо, учитывая,\n",
    "            - как мало времени это занимает,\n",
    "            - не так ли?!"
   ]
  },
  {
   "cell_type": "markdown",
   "metadata": {},
   "source": [
    "* как в нумерованном, так \n",
    "* и в маркирвоанном списках\n",
    "* между элементами списка  \n",
    "можно вставлять как-то любой текст, то числе   \n",
    "**жирный** или *курсивный* текста  \n",
    "> почему бы не вставить цитаты в списки?!\n",
    "* и дальше продолжить маркеровать"
   ]
  },
  {
   "cell_type": "markdown",
   "metadata": {},
   "source": [
    "## Код\n",
    "---"
   ]
  },
  {
   "cell_type": "markdown",
   "metadata": {},
   "source": [
    "Писать код в Markdown очень просто.  \n",
    "Поставьте \\`\\`\\` (3 тильды) до и после кода  \n",
    "И получите что-то вот такое (пример взять из случайного источника в интернете):"
   ]
  },
  {
   "cell_type": "markdown",
   "metadata": {},
   "source": [
    "```html\n",
    "<nav class=\"nav nav-primary\">\n",
    "  <ul>\n",
    "    <li class=\"tab-conversation active\">\n",
    "      <a href=\"#\" data-role=\"post-count\" class=\"publisher-nav-color\" data-nav=\"conversation\">\n",
    "        <span class=\"comment-count\">0 комментариев</span>\n",
    "        <span class=\"comment-count-placeholder\">Комментарии</span>\n",
    "      </a>\n",
    "    </li>\n",
    "    <li class=\"dropdown user-menu\" data-role=\"logout\">\n",
    "      <a href=\"#\" class=\"dropdown-toggle\" data-toggle=\"dropdown\">\n",
    "        <span class=\"dropdown-toggle-wrapper\">\n",
    "          <span>\n",
    "            Войти\n",
    "          </span>\n",
    "        </span>\n",
    "        <span class=\"caret\"></span>\n",
    "      </a>\n",
    "    </li>\n",
    "  </ul>\n",
    "</nav>\n",
    "```"
   ]
  },
  {
   "cell_type": "markdown",
   "metadata": {},
   "source": [
    "Если хотите написать код, не разбивая на строки, то помогут любимые тильды `<html class=\"ie no-js\">`"
   ]
  },
  {
   "cell_type": "markdown",
   "metadata": {},
   "source": [
    "## Картинки\n",
    "___"
   ]
  },
  {
   "cell_type": "markdown",
   "metadata": {},
   "source": [
    "Картинки можно вставлять, используя конструкцию `![]`  \n",
    "и после неё вставить ссылку на картинку на картинку в круглых скобках `()`  \n",
    "Например, `![Котик](https://bipbap.ru/wp-content/uploads/2017/12/65620375-6b2b57fa5c7189ba4e3841d592bd5fc1-800-640x426.jpg)`\n",
    "![Котик](https://bipbap.ru/wp-content/uploads/2017/12/65620375-6b2b57fa5c7189ba4e3841d592bd5fc1-800-640x426.jpg)"
   ]
  },
  {
   "cell_type": "markdown",
   "metadata": {},
   "source": [
    "Можно задать и название нашей картинке.  \n",
    "Достаточно в круглых скобках после ссылки написать имя в ковычках `(ссылка \"имя картинки\")`  \n",
    "например, `![Котик](https://bigpicture.ru/wp-content/uploads/2012/07/cats-32.jpg \"Летящий шар\")`\n",
    "![Котик](https://bigpicture.ru/wp-content/uploads/2012/07/cats-32.jpg \"Летящий шар\")"
   ]
  },
  {
   "cell_type": "markdown",
   "metadata": {},
   "source": [
    "## Ссылки\n",
    "---"
   ]
  },
  {
   "cell_type": "markdown",
   "metadata": {},
   "source": [
    "Ссылки можно вставлять, используя конструкцию `[]`  \n",
    "и после неё вставить ссылку в круглых скобках `()`\n",
    "Например `[ссылка на vl](http://vl.nca.by/)`  \n",
    "[ссылка на vl](http://vl.nca.by/)"
   ]
  },
  {
   "cell_type": "markdown",
   "metadata": {},
   "source": [
    "Можно даже делать картинки с ссылками  \n",
    "Что-то типа такого:  \n",
    "`[![Котик](https://i.ytimg.com/vi/8gb_D2KjZMo/maxresdefault.jpg \"Котики\")](http://a.nca.by)`\n",
    "\n",
    "[![Котик](https://i.ytimg.com/vi/8gb_D2KjZMo/maxresdefault.jpg \"Котики\")](http://a.nca.by)"
   ]
  },
  {
   "cell_type": "markdown",
   "metadata": {},
   "source": [
    ">Также, ссылки можно форматировать жирным, курсивом и так далее, как обычный текст\n",
    ">\n",
    ">Например, **[ссылка на vl](http://vl.nca.by/)**\n",
    ">\n",
    ">или *[ссылка на vl](http://vl.nca.by/)*\n",
    ">\n",
    ">или ~~[ссылка на vl](http://vl.nca.by/)~~"
   ]
  },
  {
   "cell_type": "markdown",
   "metadata": {},
   "source": [
    "## Таблицы\n",
    "---"
   ]
  },
  {
   "cell_type": "markdown",
   "metadata": {},
   "source": [
    "Заголовок 1 | Заголовок 2 | Заголовок 3 | Заголовок 4\n",
    ":--------- | :---------: | :---------: | -----------:\n",
    "значение 1 | значение 2 | Значение 3 | Значение 4\n",
    "значение 1 | значение 2 | Значение 3 | Значение 4\n",
    "значение 1 | значение 2 | Значение 3 | Значение 4\n",
    "значение 1 | значение 2 | Значение 3 | Значение 4"
   ]
  },
  {
   "cell_type": "markdown",
   "metadata": {},
   "source": [
    ">Внутри таблиц можно использовать [ссылки](), *наклонный*, **жирный** или ~~зачеркнутый текст~~."
   ]
  },
  {
   "cell_type": "markdown",
   "metadata": {},
   "source": [
    "## Полезные ссылки\n",
    "---\n",
    "1. [Краткое руководство по Маркдауну (рус.)](https://paulradzkov.com/2014/markdown_cheatsheet/)\n",
    "2. [Markdown basic sintax (eng)](https://www.markdownguide.org/basic-syntax/)\n",
    "3. [Всеми любимый, родной и непревзойдённый](https://google.by)"
   ]
  },
  {
   "cell_type": "code",
   "execution_count": null,
   "metadata": {},
   "outputs": [],
   "source": []
  }
 ],
 "metadata": {
  "kernelspec": {
   "display_name": "Python 3",
   "language": "python",
   "name": "python3"
  },
  "language_info": {
   "codemirror_mode": {
    "name": "ipython",
    "version": 3
   },
   "file_extension": ".py",
   "mimetype": "text/x-python",
   "name": "python",
   "nbconvert_exporter": "python",
   "pygments_lexer": "ipython3",
   "version": "3.7.1"
  }
 },
 "nbformat": 4,
 "nbformat_minor": 2
}
